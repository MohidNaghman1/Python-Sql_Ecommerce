{
 "cells": [
  {
   "cell_type": "code",
   "execution_count": 1,
   "metadata": {},
   "outputs": [
    {
     "name": "stderr",
     "output_type": "stream",
     "text": [
      "C:\\Users\\lenovo\\AppData\\Local\\Temp\\ipykernel_7300\\3275508707.py:1: DeprecationWarning: \n",
      "Pyarrow will become a required dependency of pandas in the next major release of pandas (pandas 3.0),\n",
      "(to allow more performant data types, such as the Arrow string type, and better interoperability with other libraries)\n",
      "but was not found to be installed on your system.\n",
      "If this would cause problems for you,\n",
      "please provide us feedback at https://github.com/pandas-dev/pandas/issues/54466\n",
      "        \n",
      "  import pandas as pd\n"
     ]
    }
   ],
   "source": [
    "import pandas as pd\n",
    "import seaborn as sns\n",
    "import matplotlib.pyplot as plt\n",
    "import MySQLdb\n",
    "\n",
    "\n",
    "# Connect to the MySQL database\n",
    "host = 'localhost'\n",
    "user = 'root'\n",
    "password = 'mohid708@'\n",
    "database = 'ecommerce'\n",
    "db = MySQLdb.connect(host=host, user=user, passwd=password, db=database)\n",
    "\n",
    "cursor = db.cursor()"
   ]
  },
  {
   "cell_type": "markdown",
   "metadata": {},
   "source": [
    "### 1. List all unique cities where customers are located."
   ]
  },
  {
   "cell_type": "code",
   "execution_count": 2,
   "metadata": {},
   "outputs": [
    {
     "data": {
      "text/html": [
       "<div>\n",
       "<style scoped>\n",
       "    .dataframe tbody tr th:only-of-type {\n",
       "        vertical-align: middle;\n",
       "    }\n",
       "\n",
       "    .dataframe tbody tr th {\n",
       "        vertical-align: top;\n",
       "    }\n",
       "\n",
       "    .dataframe thead th {\n",
       "        text-align: right;\n",
       "    }\n",
       "</style>\n",
       "<table border=\"1\" class=\"dataframe\">\n",
       "  <thead>\n",
       "    <tr style=\"text-align: right;\">\n",
       "      <th></th>\n",
       "      <th>0</th>\n",
       "    </tr>\n",
       "  </thead>\n",
       "  <tbody>\n",
       "    <tr>\n",
       "      <th>0</th>\n",
       "      <td>franca</td>\n",
       "    </tr>\n",
       "    <tr>\n",
       "      <th>1</th>\n",
       "      <td>sao bernardo do campo</td>\n",
       "    </tr>\n",
       "    <tr>\n",
       "      <th>2</th>\n",
       "      <td>sao paulo</td>\n",
       "    </tr>\n",
       "    <tr>\n",
       "      <th>3</th>\n",
       "      <td>mogi das cruzes</td>\n",
       "    </tr>\n",
       "    <tr>\n",
       "      <th>4</th>\n",
       "      <td>campinas</td>\n",
       "    </tr>\n",
       "  </tbody>\n",
       "</table>\n",
       "</div>"
      ],
      "text/plain": [
       "                       0\n",
       "0                 franca\n",
       "1  sao bernardo do campo\n",
       "2              sao paulo\n",
       "3        mogi das cruzes\n",
       "4               campinas"
      ]
     },
     "execution_count": 2,
     "metadata": {},
     "output_type": "execute_result"
    }
   ],
   "source": [
    "query = '''\n",
    "select distinct(customer_city) from customers\n",
    "'''\n",
    "cursor.execute(query)\n",
    "data = cursor.fetchall()\n",
    "df = pd.DataFrame(data)\n",
    "df.head()"
   ]
  },
  {
   "cell_type": "markdown",
   "metadata": {},
   "source": [
    "### 2. Count the number of orders placed in 2017.\n"
   ]
  },
  {
   "cell_type": "code",
   "execution_count": 3,
   "metadata": {},
   "outputs": [
    {
     "data": {
      "text/plain": [
       "'The number of orders placed in 2017 is: 180404'"
      ]
     },
     "execution_count": 3,
     "metadata": {},
     "output_type": "execute_result"
    }
   ],
   "source": [
    "query = \"\"\"\n",
    "select count(order_id) from orders where year(order_purchase_timestamp) = 2017\n",
    "\"\"\"\n",
    "cursor.execute(query)\n",
    "data = cursor.fetchall()\n",
    "f'The number of orders placed in 2017 is: {data[0][0]}'"
   ]
  },
  {
   "cell_type": "markdown",
   "metadata": {},
   "source": [
    "### 3. Find the total sales per category."
   ]
  },
  {
   "cell_type": "code",
   "execution_count": 4,
   "metadata": {},
   "outputs": [
    {
     "data": {
      "text/html": [
       "<div>\n",
       "<style scoped>\n",
       "    .dataframe tbody tr th:only-of-type {\n",
       "        vertical-align: middle;\n",
       "    }\n",
       "\n",
       "    .dataframe tbody tr th {\n",
       "        vertical-align: top;\n",
       "    }\n",
       "\n",
       "    .dataframe thead th {\n",
       "        text-align: right;\n",
       "    }\n",
       "</style>\n",
       "<table border=\"1\" class=\"dataframe\">\n",
       "  <thead>\n",
       "    <tr style=\"text-align: right;\">\n",
       "      <th></th>\n",
       "      <th>Category</th>\n",
       "      <th>Sales</th>\n",
       "    </tr>\n",
       "  </thead>\n",
       "  <tbody>\n",
       "    <tr>\n",
       "      <th>0</th>\n",
       "      <td>perfumery</td>\n",
       "      <td>18242591.76</td>\n",
       "    </tr>\n",
       "    <tr>\n",
       "      <th>1</th>\n",
       "      <td>Furniture Decoration</td>\n",
       "      <td>51486350.10</td>\n",
       "    </tr>\n",
       "    <tr>\n",
       "      <th>2</th>\n",
       "      <td>telephony</td>\n",
       "      <td>17527753.83</td>\n",
       "    </tr>\n",
       "    <tr>\n",
       "      <th>3</th>\n",
       "      <td>bed table bath</td>\n",
       "      <td>61651932.16</td>\n",
       "    </tr>\n",
       "    <tr>\n",
       "      <th>4</th>\n",
       "      <td>automotive</td>\n",
       "      <td>30682595.92</td>\n",
       "    </tr>\n",
       "    <tr>\n",
       "      <th>...</th>\n",
       "      <td>...</td>\n",
       "      <td>...</td>\n",
       "    </tr>\n",
       "    <tr>\n",
       "      <th>69</th>\n",
       "      <td>cds music dvds</td>\n",
       "      <td>43179.48</td>\n",
       "    </tr>\n",
       "    <tr>\n",
       "      <th>70</th>\n",
       "      <td>La Cuisine</td>\n",
       "      <td>104887.08</td>\n",
       "    </tr>\n",
       "    <tr>\n",
       "      <th>71</th>\n",
       "      <td>Fashion Children's Clothing</td>\n",
       "      <td>28284.12</td>\n",
       "    </tr>\n",
       "    <tr>\n",
       "      <th>72</th>\n",
       "      <td>PC Gamer</td>\n",
       "      <td>78279.48</td>\n",
       "    </tr>\n",
       "    <tr>\n",
       "      <th>73</th>\n",
       "      <td>insurance and services</td>\n",
       "      <td>11682.36</td>\n",
       "    </tr>\n",
       "  </tbody>\n",
       "</table>\n",
       "<p>74 rows × 2 columns</p>\n",
       "</div>"
      ],
      "text/plain": [
       "                       Category        Sales\n",
       "0                     perfumery  18242591.76\n",
       "1          Furniture Decoration  51486350.10\n",
       "2                     telephony  17527753.83\n",
       "3                bed table bath  61651932.16\n",
       "4                    automotive  30682595.92\n",
       "..                          ...          ...\n",
       "69               cds music dvds     43179.48\n",
       "70                   La Cuisine    104887.08\n",
       "71  Fashion Children's Clothing     28284.12\n",
       "72                     PC Gamer     78279.48\n",
       "73       insurance and services     11682.36\n",
       "\n",
       "[74 rows x 2 columns]"
      ]
     },
     "execution_count": 4,
     "metadata": {},
     "output_type": "execute_result"
    }
   ],
   "source": [
    "query = \"\"\"\n",
    "select products.product_category as category, round(sum(payment.payment_value),2) as sales\n",
    "from products join order_items on products.product_id = order_items.product_id\n",
    "join payment on order_items.order_id = payment.order_id\n",
    "group by category \n",
    "\"\"\"\n",
    "\n",
    "cursor.execute(query)\n",
    "data = cursor.fetchall()\n",
    "\n",
    "\n",
    "df = pd.DataFrame(data)\n",
    "df.columns = ['Category', 'Sales']\n",
    "df"
   ]
  },
  {
   "cell_type": "markdown",
   "metadata": {},
   "source": [
    "### 4. Calculate the percentage of orders that were paid in installments.\n"
   ]
  },
  {
   "cell_type": "code",
   "execution_count": 5,
   "metadata": {},
   "outputs": [
    {
     "data": {
      "text/plain": [
       "'Percentage of orders that were paid in installmentsis: 99.9981'"
      ]
     },
     "execution_count": 5,
     "metadata": {},
     "output_type": "execute_result"
    }
   ],
   "source": [
    "query = \"\"\"\n",
    "select sum(case when payment_installments >= 1 then 1 else 0 end)/count(*) * 100 from Payment\n",
    "\"\"\"\n",
    "\n",
    "cursor.execute(query)\n",
    "data = cursor.fetchall()\n",
    "\n",
    "f'Percentage of orders that were paid in installmentsis: {data[0][0]}'"
   ]
  },
  {
   "cell_type": "markdown",
   "metadata": {},
   "source": [
    "### 5. Count the number of customers from each state. \n"
   ]
  },
  {
   "cell_type": "code",
   "execution_count": 6,
   "metadata": {},
   "outputs": [
    {
     "data": {
      "text/html": [
       "<div>\n",
       "<style scoped>\n",
       "    .dataframe tbody tr th:only-of-type {\n",
       "        vertical-align: middle;\n",
       "    }\n",
       "\n",
       "    .dataframe tbody tr th {\n",
       "        vertical-align: top;\n",
       "    }\n",
       "\n",
       "    .dataframe thead th {\n",
       "        text-align: right;\n",
       "    }\n",
       "</style>\n",
       "<table border=\"1\" class=\"dataframe\">\n",
       "  <thead>\n",
       "    <tr style=\"text-align: right;\">\n",
       "      <th></th>\n",
       "      <th>State</th>\n",
       "      <th>Customer_count</th>\n",
       "    </tr>\n",
       "  </thead>\n",
       "  <tbody>\n",
       "    <tr>\n",
       "      <th>0</th>\n",
       "      <td>SP</td>\n",
       "      <td>125238</td>\n",
       "    </tr>\n",
       "    <tr>\n",
       "      <th>1</th>\n",
       "      <td>SC</td>\n",
       "      <td>10911</td>\n",
       "    </tr>\n",
       "    <tr>\n",
       "      <th>2</th>\n",
       "      <td>MG</td>\n",
       "      <td>34905</td>\n",
       "    </tr>\n",
       "    <tr>\n",
       "      <th>3</th>\n",
       "      <td>PR</td>\n",
       "      <td>15135</td>\n",
       "    </tr>\n",
       "    <tr>\n",
       "      <th>4</th>\n",
       "      <td>RJ</td>\n",
       "      <td>38556</td>\n",
       "    </tr>\n",
       "    <tr>\n",
       "      <th>5</th>\n",
       "      <td>RS</td>\n",
       "      <td>16398</td>\n",
       "    </tr>\n",
       "    <tr>\n",
       "      <th>6</th>\n",
       "      <td>PA</td>\n",
       "      <td>2925</td>\n",
       "    </tr>\n",
       "    <tr>\n",
       "      <th>7</th>\n",
       "      <td>GO</td>\n",
       "      <td>6060</td>\n",
       "    </tr>\n",
       "    <tr>\n",
       "      <th>8</th>\n",
       "      <td>ES</td>\n",
       "      <td>6099</td>\n",
       "    </tr>\n",
       "    <tr>\n",
       "      <th>9</th>\n",
       "      <td>BA</td>\n",
       "      <td>10140</td>\n",
       "    </tr>\n",
       "    <tr>\n",
       "      <th>10</th>\n",
       "      <td>MA</td>\n",
       "      <td>2241</td>\n",
       "    </tr>\n",
       "    <tr>\n",
       "      <th>11</th>\n",
       "      <td>MS</td>\n",
       "      <td>2145</td>\n",
       "    </tr>\n",
       "    <tr>\n",
       "      <th>12</th>\n",
       "      <td>CE</td>\n",
       "      <td>4008</td>\n",
       "    </tr>\n",
       "    <tr>\n",
       "      <th>13</th>\n",
       "      <td>DF</td>\n",
       "      <td>6420</td>\n",
       "    </tr>\n",
       "    <tr>\n",
       "      <th>14</th>\n",
       "      <td>RN</td>\n",
       "      <td>1455</td>\n",
       "    </tr>\n",
       "    <tr>\n",
       "      <th>15</th>\n",
       "      <td>PE</td>\n",
       "      <td>4956</td>\n",
       "    </tr>\n",
       "    <tr>\n",
       "      <th>16</th>\n",
       "      <td>MT</td>\n",
       "      <td>2721</td>\n",
       "    </tr>\n",
       "    <tr>\n",
       "      <th>17</th>\n",
       "      <td>AM</td>\n",
       "      <td>444</td>\n",
       "    </tr>\n",
       "    <tr>\n",
       "      <th>18</th>\n",
       "      <td>AP</td>\n",
       "      <td>204</td>\n",
       "    </tr>\n",
       "    <tr>\n",
       "      <th>19</th>\n",
       "      <td>AL</td>\n",
       "      <td>1239</td>\n",
       "    </tr>\n",
       "    <tr>\n",
       "      <th>20</th>\n",
       "      <td>RO</td>\n",
       "      <td>759</td>\n",
       "    </tr>\n",
       "    <tr>\n",
       "      <th>21</th>\n",
       "      <td>PB</td>\n",
       "      <td>1608</td>\n",
       "    </tr>\n",
       "    <tr>\n",
       "      <th>22</th>\n",
       "      <td>TO</td>\n",
       "      <td>840</td>\n",
       "    </tr>\n",
       "    <tr>\n",
       "      <th>23</th>\n",
       "      <td>PI</td>\n",
       "      <td>1485</td>\n",
       "    </tr>\n",
       "    <tr>\n",
       "      <th>24</th>\n",
       "      <td>AC</td>\n",
       "      <td>243</td>\n",
       "    </tr>\n",
       "    <tr>\n",
       "      <th>25</th>\n",
       "      <td>SE</td>\n",
       "      <td>1050</td>\n",
       "    </tr>\n",
       "    <tr>\n",
       "      <th>26</th>\n",
       "      <td>RR</td>\n",
       "      <td>138</td>\n",
       "    </tr>\n",
       "  </tbody>\n",
       "</table>\n",
       "</div>"
      ],
      "text/plain": [
       "   State  Customer_count\n",
       "0     SP          125238\n",
       "1     SC           10911\n",
       "2     MG           34905\n",
       "3     PR           15135\n",
       "4     RJ           38556\n",
       "5     RS           16398\n",
       "6     PA            2925\n",
       "7     GO            6060\n",
       "8     ES            6099\n",
       "9     BA           10140\n",
       "10    MA            2241\n",
       "11    MS            2145\n",
       "12    CE            4008\n",
       "13    DF            6420\n",
       "14    RN            1455\n",
       "15    PE            4956\n",
       "16    MT            2721\n",
       "17    AM             444\n",
       "18    AP             204\n",
       "19    AL            1239\n",
       "20    RO             759\n",
       "21    PB            1608\n",
       "22    TO             840\n",
       "23    PI            1485\n",
       "24    AC             243\n",
       "25    SE            1050\n",
       "26    RR             138"
      ]
     },
     "execution_count": 6,
     "metadata": {},
     "output_type": "execute_result"
    }
   ],
   "source": [
    "query = \"\"\"\n",
    "select customer_state,count(customer_id) from customers group by customer_state\n",
    "\"\"\"\n",
    "\n",
    "cursor.execute(query)\n",
    "data = cursor.fetchall()\n",
    "df = pd.DataFrame(data)\n",
    "df.columns = ['State', 'Customer_count']\n",
    "df"
   ]
  },
  {
   "cell_type": "code",
   "execution_count": 7,
   "metadata": {},
   "outputs": [
    {
     "data": {
      "text/plain": [
       "([0,\n",
       "  1,\n",
       "  2,\n",
       "  3,\n",
       "  4,\n",
       "  5,\n",
       "  6,\n",
       "  7,\n",
       "  8,\n",
       "  9,\n",
       "  10,\n",
       "  11,\n",
       "  12,\n",
       "  13,\n",
       "  14,\n",
       "  15,\n",
       "  16,\n",
       "  17,\n",
       "  18,\n",
       "  19,\n",
       "  20,\n",
       "  21,\n",
       "  22,\n",
       "  23,\n",
       "  24,\n",
       "  25,\n",
       "  26],\n",
       " [Text(0, 0, 'SP'),\n",
       "  Text(1, 0, 'SC'),\n",
       "  Text(2, 0, 'MG'),\n",
       "  Text(3, 0, 'PR'),\n",
       "  Text(4, 0, 'RJ'),\n",
       "  Text(5, 0, 'RS'),\n",
       "  Text(6, 0, 'PA'),\n",
       "  Text(7, 0, 'GO'),\n",
       "  Text(8, 0, 'ES'),\n",
       "  Text(9, 0, 'BA'),\n",
       "  Text(10, 0, 'MA'),\n",
       "  Text(11, 0, 'MS'),\n",
       "  Text(12, 0, 'CE'),\n",
       "  Text(13, 0, 'DF'),\n",
       "  Text(14, 0, 'RN'),\n",
       "  Text(15, 0, 'PE'),\n",
       "  Text(16, 0, 'MT'),\n",
       "  Text(17, 0, 'AM'),\n",
       "  Text(18, 0, 'AP'),\n",
       "  Text(19, 0, 'AL'),\n",
       "  Text(20, 0, 'RO'),\n",
       "  Text(21, 0, 'PB'),\n",
       "  Text(22, 0, 'TO'),\n",
       "  Text(23, 0, 'PI'),\n",
       "  Text(24, 0, 'AC'),\n",
       "  Text(25, 0, 'SE'),\n",
       "  Text(26, 0, 'RR')])"
      ]
     },
     "execution_count": 7,
     "metadata": {},
     "output_type": "execute_result"
    },
    {
     "data": {
      "image/png": "[encoded data removed]",
      "text/plain": [
       "<Figure size 640x480 with 1 Axes>"
      ]
     },
     "metadata": {},
     "output_type": "display_data"
    }
   ],
   "source": [
    "plt.bar(df['State'],df['Customer_count'])\n",
    "plt.xticks(rotation = 90)\n",
    "\n"
   ]
  },
  {
   "cell_type": "markdown",
   "metadata": {},
   "source": [
    "### 6. Calculate the number of orders per month in 2018.\n"
   ]
  },
  {
   "cell_type": "code",
   "execution_count": 8,
   "metadata": {},
   "outputs": [
    {
     "data": {
      "text/plain": [
       "([0, 1, 2, 3, 4, 5, 6, 7, 8, 9],\n",
       " [Text(0, 0, 'July'),\n",
       "  Text(1, 0, 'August'),\n",
       "  Text(2, 0, 'February'),\n",
       "  Text(3, 0, 'June'),\n",
       "  Text(4, 0, 'March'),\n",
       "  Text(5, 0, 'January'),\n",
       "  Text(6, 0, 'May'),\n",
       "  Text(7, 0, 'April'),\n",
       "  Text(8, 0, 'September'),\n",
       "  Text(9, 0, 'October')])"
      ]
     },
     "execution_count": 8,
     "metadata": {},
     "output_type": "execute_result"
    },
    {
     "data": {
      "image/png": "[encoded data removed]",
      "text/plain": [
       "<Figure size 640x480 with 1 Axes>"
      ]
     },
     "metadata": {},
     "output_type": "display_data"
    }
   ],
   "source": [
    "query = \"\"\"\n",
    "select monthname(order_purchase_timestamp) months, count(order_id)  order_count\n",
    "from orders where year(order_purchase_timestamp) = 2018 group by months\n",
    "\"\"\"\n",
    "cursor.execute(query)\n",
    "data = cursor.fetchall()\n",
    "df = pd.DataFrame(data,columns=['Months','Order_count'])\n",
    "\n",
    "plt.bar(df['Months'],df['Order_count'])\n",
    "plt.xticks(rotation = 90)"
   ]
  },
  {
   "cell_type": "markdown",
   "metadata": {},
   "source": [
    "### 7. Find the average number of products per order, grouped by customer city.\n"
   ]
  },
  {
   "cell_type": "code",
   "execution_count": 9,
   "metadata": {},
   "outputs": [],
   "source": [
    "query = \"\"\"\n",
    "with count_per_order as\n",
    "(select orders.order_id,orders.customer_id,count(order_items.order_id) as Order_Count\n",
    "from orders join order_items on orders.order_id = order_items.order_id\n",
    "group by orders.order_id,orders.customer_id) \n",
    "\n",
    "select customers.customer_city, round(avg(count_per_order.Order_Count),2)\n",
    "average_order from customers join count_per_order\n",
    "group by customers.customer_city \n",
    "\"\"\"\n",
    "\n",
    "cursor.execute(query)\n",
    "data = cursor.fetchall()\n",
    "df = pd.DataFrame(data,columns=['Customer_city','Avg Products /  Orders'])\n",
    "df.head()"
   ]
  },
  {
   "cell_type": "markdown",
   "metadata": {},
   "source": [
    "### 8. Calculate the percentage of total revenue contributed by each product category.\n"
   ]
  },
  {
   "cell_type": "code",
   "execution_count": 13,
   "metadata": {},
   "outputs": [
    {
     "data": {
      "text/html": [
       "<div>\n",
       "<style scoped>\n",
       "    .dataframe tbody tr th:only-of-type {\n",
       "        vertical-align: middle;\n",
       "    }\n",
       "\n",
       "    .dataframe tbody tr th {\n",
       "        vertical-align: top;\n",
       "    }\n",
       "\n",
       "    .dataframe thead th {\n",
       "        text-align: right;\n",
       "    }\n",
       "</style>\n",
       "<table border=\"1\" class=\"dataframe\">\n",
       "  <thead>\n",
       "    <tr style=\"text-align: right;\">\n",
       "      <th></th>\n",
       "      <th>category</th>\n",
       "      <th>Sales_percentage</th>\n",
       "    </tr>\n",
       "  </thead>\n",
       "  <tbody>\n",
       "    <tr>\n",
       "      <th>0</th>\n",
       "      <td>perfumery</td>\n",
       "      <td>18.99</td>\n",
       "    </tr>\n",
       "    <tr>\n",
       "      <th>1</th>\n",
       "      <td>Furniture Decoration</td>\n",
       "      <td>53.60</td>\n",
       "    </tr>\n",
       "    <tr>\n",
       "      <th>2</th>\n",
       "      <td>telephony</td>\n",
       "      <td>18.25</td>\n",
       "    </tr>\n",
       "    <tr>\n",
       "      <th>3</th>\n",
       "      <td>bed table bath</td>\n",
       "      <td>64.19</td>\n",
       "    </tr>\n",
       "    <tr>\n",
       "      <th>4</th>\n",
       "      <td>automotive</td>\n",
       "      <td>31.94</td>\n",
       "    </tr>\n",
       "    <tr>\n",
       "      <th>...</th>\n",
       "      <td>...</td>\n",
       "      <td>...</td>\n",
       "    </tr>\n",
       "    <tr>\n",
       "      <th>69</th>\n",
       "      <td>cds music dvds</td>\n",
       "      <td>0.04</td>\n",
       "    </tr>\n",
       "    <tr>\n",
       "      <th>70</th>\n",
       "      <td>La Cuisine</td>\n",
       "      <td>0.11</td>\n",
       "    </tr>\n",
       "    <tr>\n",
       "      <th>71</th>\n",
       "      <td>Fashion Children's Clothing</td>\n",
       "      <td>0.03</td>\n",
       "    </tr>\n",
       "    <tr>\n",
       "      <th>72</th>\n",
       "      <td>PC Gamer</td>\n",
       "      <td>0.08</td>\n",
       "    </tr>\n",
       "    <tr>\n",
       "      <th>73</th>\n",
       "      <td>insurance and services</td>\n",
       "      <td>0.01</td>\n",
       "    </tr>\n",
       "  </tbody>\n",
       "</table>\n",
       "<p>74 rows × 2 columns</p>\n",
       "</div>"
      ],
      "text/plain": [
       "                       category  Sales_percentage\n",
       "0                     perfumery             18.99\n",
       "1          Furniture Decoration             53.60\n",
       "2                     telephony             18.25\n",
       "3                bed table bath             64.19\n",
       "4                    automotive             31.94\n",
       "..                          ...               ...\n",
       "69               cds music dvds              0.04\n",
       "70                   La Cuisine              0.11\n",
       "71  Fashion Children's Clothing              0.03\n",
       "72                     PC Gamer              0.08\n",
       "73       insurance and services              0.01\n",
       "\n",
       "[74 rows x 2 columns]"
      ]
     },
     "execution_count": 13,
     "metadata": {},
     "output_type": "execute_result"
    }
   ],
   "source": [
    "query = \"\"\"\n",
    "select products.product_category as category,round(sum(payment.payment_value)/(select sum(payment_value) from payment)*100,2) as sales_percentage\n",
    "from products join order_items on products.product_id = order_items.product_id\n",
    "join payment on order_items.order_id = payment.order_id\n",
    "group by category \n",
    "\"\"\"\n",
    "\n",
    "cursor.execute(query)\n",
    "data = cursor.fetchall()\n",
    "df = pd.DataFrame(data,columns=['category','Sales_percentage'])\n",
    "df.head()"
   ]
  },
  {
   "cell_type": "markdown",
   "metadata": {},
   "source": [
    "### 9. Identify the correlation between product price and the number of times a product has been purchased.\n"
   ]
  },
  {
   "cell_type": "code",
   "execution_count": 6,
   "metadata": {},
   "outputs": [
    {
     "name": "stdout",
     "output_type": "stream",
     "text": [
      "The correlation b/w price and number of items a product has been purchased is:  -0.10631514167157569\n"
     ]
    }
   ],
   "source": [
    "import numpy as np \n",
    "\n",
    "query = \"\"\"\n",
    "select products.product_category, count(order_items.product_id),round(avg(order_items.price),2) from products join order_items on products.product_id = order_items.product_id\n",
    "group by products.product_category\n",
    "\"\"\"\n",
    "cursor.execute(query)\n",
    "data = cursor.fetchall()\n",
    "df = pd.DataFrame(data,columns=['category','order_count','price'])\n",
    "arr1 = df['order_count']\n",
    "arr2 = df['price']\n",
    "\n",
    "a = np.corrcoef([arr1,arr2])\n",
    "print(\"The correlation b/w price and number of items a product has been purchased is: \",a[0][1])"
   ]
  },
  {
   "cell_type": "markdown",
   "metadata": {},
   "source": [
    "### 10. Calculate the total revenue generated by each seller, and rank them by revenue.\n"
   ]
  },
  {
   "cell_type": "code",
   "execution_count": 13,
   "metadata": {},
   "outputs": [
    {
     "data": {
      "image/png": "[encoded data removed]",
      "text/plain": [
       "<Figure size 640x480 with 1 Axes>"
      ]
     },
     "metadata": {},
     "output_type": "display_data"
    }
   ],
   "source": [
    "query = \"\"\"\n",
    "select *, rank() over(order by reveneu desc) as rn from\n",
    "(select order_items.seller_id, sum(payment.payment_value) reveneu from order_items \n",
    "join payment\n",
    "on order_items.order_id = payment.order_id\n",
    "group by order_items.seller_id) as a\n",
    "\"\"\"\n",
    "\n",
    "cursor.execute(query)\n",
    "data = cursor.fetchall()\n",
    "df = pd.DataFrame(data,columns=['Seller_id','Reveneu','Rank'])\n",
    "df = df.head()\n",
    "sns.barplot(x='Seller_id',y='Reveneu',data=df)\n",
    "plt.xticks(rotation = 90)\n",
    "plt.show()"
   ]
  },
  {
   "cell_type": "markdown",
   "metadata": {},
   "source": []
  },
  {
   "cell_type": "code",
   "execution_count": null,
   "metadata": {},
   "outputs": [],
   "source": []
  },
  {
   "cell_type": "code",
   "execution_count": null,
   "metadata": {},
   "outputs": [],
   "source": []
  }
 ],
 "metadata": {
  "kernelspec": {
   "display_name": "Python 3",
   "language": "python",
   "name": "python3"
  },
  "language_info": {
   "codemirror_mode": {
    "name": "ipython",
    "version": 3
   },
   "file_extension": ".py",
   "mimetype": "text/x-python",
   "name": "python",
   "nbconvert_exporter": "python",
   "pygments_lexer": "ipython3",
   "version": "3.11.9"
  }
 },
 "nbformat": 4,
 "nbformat_minor": 2
}
